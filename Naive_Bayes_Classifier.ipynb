{
  "nbformat": 4,
  "nbformat_minor": 0,
  "metadata": {
    "colab": {
      "provenance": [],
      "authorship_tag": "ABX9TyMoJijloq84D+/LHUlBLMzo",
      "include_colab_link": true
    },
    "kernelspec": {
      "name": "python3",
      "display_name": "Python 3"
    },
    "language_info": {
      "name": "python"
    }
  },
  "cells": [
    {
      "cell_type": "markdown",
      "metadata": {
        "id": "view-in-github",
        "colab_type": "text"
      },
      "source": [
        "<a href=\"https://colab.research.google.com/github/sakthixx/sakthixx/blob/main/Naive_Bayes_Classifier.ipynb\" target=\"_parent\"><img src=\"https://colab.research.google.com/assets/colab-badge.svg\" alt=\"Open In Colab\"/></a>"
      ]
    },
    {
      "cell_type": "code",
      "execution_count": 1,
      "metadata": {
        "id": "Qg0x2_hIM8_1"
      },
      "outputs": [],
      "source": [
        "import pandas as pd\n",
        "from sklearn import tree\n",
        "from sklearn.preprocessing import LabelEncoder\n",
        "from sklearn.naive_bayes import GaussianNB"
      ]
    },
    {
      "cell_type": "code",
      "source": [
        "data = pd.read_csv(\"naive.csv\")\n",
        "print(\"The first 5 values of data is: \\n\", data.head())"
      ],
      "metadata": {
        "colab": {
          "base_uri": "https://localhost:8080/"
        },
        "id": "TUhPu5wUOAjn",
        "outputId": "d6d1df9a-2796-4ea9-936b-97435015a3ed"
      },
      "execution_count": 10,
      "outputs": [
        {
          "output_type": "stream",
          "name": "stdout",
          "text": [
            "The first 5 values of data is: \n",
            "    Unnamed: 0   Outlook Temperature Humidity  Windy PlayTennis\n",
            "0           0     Sunny         Hot     High  False         No\n",
            "1           1     Sunny         Hot     High   True         No\n",
            "2           2  Overcast         Hot     High  False        Yes\n",
            "3           3     Rainy        Mild     High  False        Yes\n",
            "4           4     Rainy        Cool   Normal  False        Yes\n"
          ]
        }
      ]
    },
    {
      "cell_type": "code",
      "source": [
        "x=data.iloc[:,:-1]"
      ],
      "metadata": {
        "id": "Zidz_ldzbcAI"
      },
      "execution_count": 11,
      "outputs": []
    },
    {
      "cell_type": "code",
      "source": [
        "print(\"The first 5 values of train data is: \\n\", x.head())"
      ],
      "metadata": {
        "colab": {
          "base_uri": "https://localhost:8080/"
        },
        "id": "5i5T9ceDbgt_",
        "outputId": "65b458f7-2c04-45ce-d06d-72071aa3c652"
      },
      "execution_count": 12,
      "outputs": [
        {
          "output_type": "stream",
          "name": "stdout",
          "text": [
            "The first 5 values of train data is: \n",
            "    Unnamed: 0   Outlook Temperature Humidity  Windy\n",
            "0           0     Sunny         Hot     High  False\n",
            "1           1     Sunny         Hot     High   True\n",
            "2           2  Overcast         Hot     High  False\n",
            "3           3     Rainy        Mild     High  False\n",
            "4           4     Rainy        Cool   Normal  False\n"
          ]
        }
      ]
    },
    {
      "cell_type": "code",
      "source": [
        "y=data.iloc[:,-1]\n",
        "print(\"The first 5 values of train data is: \\n\", y.head())"
      ],
      "metadata": {
        "colab": {
          "base_uri": "https://localhost:8080/"
        },
        "id": "TrDeLzChbojt",
        "outputId": "4aad1e29-0ba5-482c-8849-17914dc8585d"
      },
      "execution_count": 15,
      "outputs": [
        {
          "output_type": "stream",
          "name": "stdout",
          "text": [
            "The first 5 values of train data is: \n",
            " 0     No\n",
            "1     No\n",
            "2    Yes\n",
            "3    Yes\n",
            "4    Yes\n",
            "Name: PlayTennis, dtype: object\n"
          ]
        }
      ]
    },
    {
      "cell_type": "code",
      "source": [
        "le_outlook=LabelEncoder()\n",
        "x.Outlook=le_outlook.fit_transform(x.Outlook)"
      ],
      "metadata": {
        "id": "1acuZAgDdu1v"
      },
      "execution_count": 17,
      "outputs": []
    },
    {
      "cell_type": "code",
      "source": [
        "le_Temperature=LabelEncoder()\n",
        "x.Temperature=le_Temperature.fit_transform(x.Temperature)"
      ],
      "metadata": {
        "id": "jPBAfcusepWX"
      },
      "execution_count": 20,
      "outputs": []
    },
    {
      "cell_type": "code",
      "source": [
        "le_Humidity=LabelEncoder()\n",
        "x.Humidity=le_Humidity.fit_transform(x.Humidity)"
      ],
      "metadata": {
        "id": "onmlEqxfeqA4"
      },
      "execution_count": 19,
      "outputs": []
    },
    {
      "cell_type": "code",
      "source": [
        "le_Windy=LabelEncoder()\n",
        "x.Windy=le_Windy.fit_transform(x.Windy)"
      ],
      "metadata": {
        "id": "RAnjN9lOeqmX"
      },
      "execution_count": 21,
      "outputs": []
    },
    {
      "cell_type": "code",
      "source": [
        "print(\"Now the train data is: \\n\", x.head())"
      ],
      "metadata": {
        "colab": {
          "base_uri": "https://localhost:8080/"
        },
        "id": "rxluJEDWfPtR",
        "outputId": "f4469d5f-84a2-4c5f-a896-88a60ab3ac9b"
      },
      "execution_count": 22,
      "outputs": [
        {
          "output_type": "stream",
          "name": "stdout",
          "text": [
            "Now the train data is: \n",
            "    Unnamed: 0  Outlook  Temperature  Humidity  Windy\n",
            "0           0        2            2         0      0\n",
            "1           1        2            2         0      1\n",
            "2           2        0            0         0      0\n",
            "3           3        1            1         0      0\n",
            "4           4        1            1         1      0\n"
          ]
        }
      ]
    },
    {
      "cell_type": "code",
      "source": [
        "le_PlayTennis=LabelEncoder()\n",
        "y=le_PlayTennis.fit_transform(y)"
      ],
      "metadata": {
        "id": "GuIxHL7JfdVP"
      },
      "execution_count": 25,
      "outputs": []
    },
    {
      "cell_type": "code",
      "source": [
        "print(\"\\nNow the train data is\\n\",y)"
      ],
      "metadata": {
        "colab": {
          "base_uri": "https://localhost:8080/"
        },
        "id": "2qEUyau8gAXA",
        "outputId": "40544b9c-ddd2-4e31-e811-859c8ed6f639"
      },
      "execution_count": 26,
      "outputs": [
        {
          "output_type": "stream",
          "name": "stdout",
          "text": [
            "\n",
            "Now the train data is\n",
            " [0 0 1 1 1]\n"
          ]
        }
      ]
    },
    {
      "cell_type": "code",
      "source": [
        "from sklearn.model_selection import train_test_split\n",
        "x_train,x_test,y_train,y_test=train_test_split(x,y,test_size=0.20)"
      ],
      "metadata": {
        "id": "fT8NsXQMgJyF"
      },
      "execution_count": 28,
      "outputs": []
    },
    {
      "cell_type": "code",
      "source": [
        "classifier=GaussianNB()"
      ],
      "metadata": {
        "id": "rNdC53CjgVvl"
      },
      "execution_count": 29,
      "outputs": []
    },
    {
      "cell_type": "code",
      "source": [
        "classifier.fit(x_train,y_train)"
      ],
      "metadata": {
        "colab": {
          "base_uri": "https://localhost:8080/"
        },
        "id": "Bh8AZS_Wgnjq",
        "outputId": "528c2c50-c994-4bdc-aedb-6d48575c21c1"
      },
      "execution_count": 30,
      "outputs": [
        {
          "output_type": "execute_result",
          "data": {
            "text/plain": [
              "GaussianNB()"
            ]
          },
          "metadata": {},
          "execution_count": 30
        }
      ]
    },
    {
      "cell_type": "code",
      "source": [
        "from sklearn.metrics import accuracy_score"
      ],
      "metadata": {
        "id": "5lX5pEpFgvm3"
      },
      "execution_count": 34,
      "outputs": []
    },
    {
      "cell_type": "code",
      "source": [
        "print(\"Accuracy is:\",accuracy_score(classifier.predict(x_test),y_test))"
      ],
      "metadata": {
        "colab": {
          "base_uri": "https://localhost:8080/"
        },
        "id": "7HAv7S_7hHc6",
        "outputId": "63f134c2-0b57-4af3-b0de-7d792573bc45"
      },
      "execution_count": 35,
      "outputs": [
        {
          "output_type": "stream",
          "name": "stdout",
          "text": [
            "Accuracy is: 1.0\n"
          ]
        }
      ]
    }
  ]
}